{
  "nbformat": 4,
  "nbformat_minor": 0,
  "metadata": {
    "colab": {
      "provenance": []
    },
    "kernelspec": {
      "name": "python3",
      "display_name": "Python 3"
    },
    "language_info": {
      "name": "python"
    }
  },
  "cells": [
    {
      "cell_type": "code",
      "execution_count": 1,
      "metadata": {
        "colab": {
          "base_uri": "https://localhost:8080/"
        },
        "id": "BbA8l4mYJaCV",
        "outputId": "92c345fb-aa16-418e-9a3e-73e7d4051318"
      },
      "outputs": [
        {
          "output_type": "stream",
          "name": "stdout",
          "text": [
            "Enter a sentence: I did in python too man\n",
            "Morse Code: .. / -.. .. -.. / .. -. / .--. -.-- - .... --- -. / - --- --- / -- .- -. \n"
          ]
        }
      ],
      "source": [
        "import numpy as np\n",
        "from scipy.io.wavfile import write\n",
        "\n",
        "# Set parameters\n",
        "freq = 2000\n",
        "sampling = 32000\n",
        "\n",
        "# Define time periods and generate waveforms\n",
        "dot_time_period = 0.1\n",
        "dot_samples = int(sampling * dot_time_period)\n",
        "dot_wave = np.cos(2 * np.pi * freq * np.linspace(0, dot_time_period, dot_samples))\n",
        "\n",
        "dash_time_period = 0.2\n",
        "dash_samples = int(sampling * dash_time_period)\n",
        "dash_wave = np.cos(2 * np.pi * freq * np.linspace(0, dash_time_period, dash_samples))\n",
        "\n",
        "space_time_period = 0.3\n",
        "space_samples = int(sampling * space_time_period)\n",
        "space_wave = np.cos(2 * np.pi * 1 * np.linspace(0, space_time_period, space_samples))\n",
        "\n",
        "interval_time_period = 0.1\n",
        "interval_samples = int(sampling * interval_time_period)\n",
        "interval_wave = np.cos(2 * np.pi * 1e-6 * np.linspace(0, interval_time_period, interval_samples))\n",
        "\n",
        "# Morse code lookup table\n",
        "morse_code_map = {\n",
        "    'A': '.-', 'B': '-...', 'C': '-.-.', 'D': '-..', 'E': '.', 'F': '..-.', 'G': '--.', 'H': '....', 'I': '..', 'J': '.---',\n",
        "    'K': '-.-', 'L': '.-..', 'M': '--', 'N': '-.', 'O': '---', 'P': '.--.', 'Q': '--.-', 'R': '.-.', 'S': '...', 'T': '-',\n",
        "    'U': '..-', 'V': '...-', 'W': '.--', 'X': '-..-', 'Y': '-.--', 'Z': '--..',\n",
        "    '1': '.----', '2': '..---', '3': '...--', '4': '....-', '5': '.....', '6': '-....', '7': '--...', '8': '---..', '9': '----.', '0': '-----',\n",
        "    ' ': '/'\n",
        "}\n",
        "\n",
        "# Get input sentence from the user\n",
        "input_sentence = input('Enter a sentence: ').upper()\n",
        "\n",
        "# Convert the input sentence to Morse code\n",
        "word = ''  # Initialize the Morse code string\n",
        "for char in input_sentence:\n",
        "    if char in morse_code_map:\n",
        "        word += morse_code_map[char] + ' '  # Append Morse code and a space\n",
        "\n",
        "print(f'Morse Code: {word}')\n",
        "\n",
        "# Encoder\n",
        "wave = np.array([])\n",
        "\n",
        "for char in word:\n",
        "    if char == '.':\n",
        "        wave = np.concatenate((wave, dot_wave, interval_wave))\n",
        "    elif char == '-':\n",
        "        wave = np.concatenate((wave, dash_wave, interval_wave))\n",
        "    elif char == ' ':\n",
        "        wave = np.concatenate((wave, interval_wave, interval_wave))\n",
        "    elif char == '/':\n",
        "        wave = np.concatenate((wave, space_wave))\n",
        "\n",
        "# Save the Morse code sound to a WAV file\n",
        "filename = 'sound.wav'\n",
        "write(filename, sampling, wave.astype(np.float32))\n",
        "\n",
        "# Optionally play the sound using sounddevice (uncomment if sounddevice is installed)\n",
        "# import sounddevice as sd\n",
        "# sd.play(wave, samplerate=sampling)\n",
        "# sd.wait()\n"
      ]
    }
  ]
}